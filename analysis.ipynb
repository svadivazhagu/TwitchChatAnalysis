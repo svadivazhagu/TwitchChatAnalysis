{
 "cells": [
  {
   "cell_type": "markdown",
   "source": [
    "## Analyzing Twitch Chat Data\n",
    "Step 1 Import files"
   ],
   "metadata": {
    "collapsed": false,
    "pycharm": {
     "name": "#%% md\n",
     "is_executing": true
    }
   }
  },
  {
   "cell_type": "code",
   "execution_count": 15,
   "metadata": {
    "collapsed": true,
    "pycharm": {
     "name": "#%% code\n"
    }
   },
   "outputs": [],
   "source": [
    "import pandas as pd, re"
   ]
  },
  {
   "cell_type": "code",
   "execution_count": 16,
   "outputs": [
    {
     "name": "stdout",
     "output_type": "stream",
     "text": [
      "       date    timestamp        username    message\n",
      "0  03/20/21  05:58:59 PM     Robertw1992  mr. 🐄 ? 󠀀\n",
      "1  03/20/21  05:58:59 PM           DeieJ       PogU\n",
      "2  03/20/21  05:58:59 PM  DepressedBread  PogU LIVE\n",
      "3  03/20/21  05:58:59 PM   beanmariocow_        hey\n",
      "4  03/20/21  05:58:59 PM        AYAYAYA_         yo\n"
     ]
    }
   ],
   "source": [
    "chat = pd.read_csv(\"chat.csv\")\n",
    "print(chat.head())"
   ],
   "metadata": {
    "collapsed": false,
    "pycharm": {
     "name": "#%%\n"
    }
   }
  },
  {
   "cell_type": "markdown",
   "source": [
    "We are going to be working with the `timestamp` column, we can use it to identify frequency of messages"
   ],
   "metadata": {
    "collapsed": false,
    "pycharm": {
     "name": "#%% md\n"
    }
   }
  },
  {
   "cell_type": "code",
   "execution_count": 18,
   "outputs": [],
   "source": [
    "def rex(stamp):\n",
    "    return re.findall(\"(\\d\\d:\\d\\d)\", stamp)[0]\n",
    "\n",
    "chat['timestamp'] = chat['timestamp'].apply(rex)\n",
    "\n",
    "distribution = chat['timestamp'].value_counts()"
   ],
   "metadata": {
    "collapsed": false,
    "pycharm": {
     "name": "#%%\n"
    }
   }
  },
  {
   "cell_type": "code",
   "execution_count": null,
   "outputs": [],
   "source": [
    "\n"
   ],
   "metadata": {
    "collapsed": false,
    "pycharm": {
     "name": "#%%\n"
    }
   }
  }
 ],
 "metadata": {
  "kernelspec": {
   "display_name": "Python 3",
   "language": "python",
   "name": "python3"
  },
  "language_info": {
   "codemirror_mode": {
    "name": "ipython",
    "version": 2
   },
   "file_extension": ".py",
   "mimetype": "text/x-python",
   "name": "python",
   "nbconvert_exporter": "python",
   "pygments_lexer": "ipython2",
   "version": "2.7.6"
  }
 },
 "nbformat": 4,
 "nbformat_minor": 0
}